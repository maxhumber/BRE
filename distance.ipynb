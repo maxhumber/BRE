{
 "cells": [
  {
   "cell_type": "markdown",
   "metadata": {},
   "source": [
    "### Distance!"
   ]
  },
  {
   "cell_type": "markdown",
   "metadata": {},
   "source": [
    "The Math:\n",
    "\n",
    "$\\sqrt{\\sum\\limits_{i=1}^k(x_i - y_i)^2}$"
   ]
  },
  {
   "cell_type": "markdown",
   "metadata": {},
   "source": [
    "Made a little less stuffy with a 2D example:\n",
    "\n",
    "$\\text{Euclidean  distance}=\\sqrt{(x_1-x_2)^2+(y_1-y_2)^2}$"
   ]
  },
  {
   "cell_type": "markdown",
   "metadata": {},
   "source": [
    "In a picture:\n",
    "\n",
    "<img src=\"images/triangle.png\" width=300 align=\"left\">"
   ]
  },
  {
   "cell_type": "markdown",
   "metadata": {},
   "source": [
    "### Python:"
   ]
  },
  {
   "cell_type": "code",
   "execution_count": 1,
   "metadata": {},
   "outputs": [],
   "source": [
    "alice = (6.5, 2.5)\n",
    "bob = (8, 2)\n",
    "carol = (1, 10)"
   ]
  },
  {
   "cell_type": "code",
   "execution_count": 2,
   "metadata": {},
   "outputs": [
    {
     "data": {
      "text/plain": [
       "1.5811388300841898"
      ]
     },
     "execution_count": 2,
     "metadata": {},
     "output_type": "execute_result"
    }
   ],
   "source": [
    "((alice[0] - bob[0])**2 + (alice[1] - bob[1])**2) ** (1/2)"
   ]
  },
  {
   "cell_type": "code",
   "execution_count": 3,
   "metadata": {},
   "outputs": [
    {
     "data": {
      "text/plain": [
       "9.300537618869138"
      ]
     },
     "execution_count": 3,
     "metadata": {},
     "output_type": "execute_result"
    }
   ],
   "source": [
    "((alice[0] - carol[0])**2 + (alice[1] - carol[1])**2) ** (1/2)"
   ]
  },
  {
   "cell_type": "code",
   "execution_count": 4,
   "metadata": {},
   "outputs": [],
   "source": [
    "# three?!\n",
    "alice = (6.5, 2.5, 4)\n",
    "eve = (8, 2, 5)"
   ]
  },
  {
   "cell_type": "code",
   "execution_count": 5,
   "metadata": {},
   "outputs": [
    {
     "data": {
      "text/plain": [
       "1.8708286933869707"
      ]
     },
     "execution_count": 5,
     "metadata": {},
     "output_type": "execute_result"
    }
   ],
   "source": [
    "((alice[0] - eve[0])**2 + (alice[1] - eve[1])**2 + (alice[2] - eve[2])**2) ** (1/2)"
   ]
  },
  {
   "cell_type": "markdown",
   "metadata": {},
   "source": [
    "A \"Real\" Example:"
   ]
  },
  {
   "cell_type": "code",
   "execution_count": 6,
   "metadata": {},
   "outputs": [],
   "source": [
    "import numpy as np\n",
    "import pandas as pd\n",
    "\n",
    "df = pd.read_csv('data/alcohol.csv')\n",
    "\n",
    "df = df.rename(columns={'Unnamed: 0': 'name'}).set_index('name')\n",
    "df = df.fillna(0)"
   ]
  },
  {
   "cell_type": "code",
   "execution_count": 7,
   "metadata": {},
   "outputs": [
    {
     "data": {
      "text/html": [
       "<div>\n",
       "<style scoped>\n",
       "    .dataframe tbody tr th:only-of-type {\n",
       "        vertical-align: middle;\n",
       "    }\n",
       "\n",
       "    .dataframe tbody tr th {\n",
       "        vertical-align: top;\n",
       "    }\n",
       "\n",
       "    .dataframe thead th {\n",
       "        text-align: right;\n",
       "    }\n",
       "</style>\n",
       "<table border=\"1\" class=\"dataframe\">\n",
       "  <thead>\n",
       "    <tr style=\"text-align: right;\">\n",
       "      <th></th>\n",
       "      <th>Old Fashion</th>\n",
       "      <th>Manhattan</th>\n",
       "      <th>Negroni</th>\n",
       "      <th>Margarita</th>\n",
       "      <th>Martini</th>\n",
       "      <th>Whiskey Sour</th>\n",
       "      <th>Beer</th>\n",
       "      <th>Water</th>\n",
       "      <th>Soda Water</th>\n",
       "      <th>Screw Driver</th>\n",
       "    </tr>\n",
       "    <tr>\n",
       "      <th>name</th>\n",
       "      <th></th>\n",
       "      <th></th>\n",
       "      <th></th>\n",
       "      <th></th>\n",
       "      <th></th>\n",
       "      <th></th>\n",
       "      <th></th>\n",
       "      <th></th>\n",
       "      <th></th>\n",
       "      <th></th>\n",
       "    </tr>\n",
       "  </thead>\n",
       "  <tbody>\n",
       "    <tr>\n",
       "      <th>Finn</th>\n",
       "      <td>2</td>\n",
       "      <td>5</td>\n",
       "      <td>0.0</td>\n",
       "      <td>1</td>\n",
       "      <td>5</td>\n",
       "      <td>4.0</td>\n",
       "      <td>5.0</td>\n",
       "      <td>5.0</td>\n",
       "      <td>2.0</td>\n",
       "      <td>0.0</td>\n",
       "    </tr>\n",
       "    <tr>\n",
       "      <th>Marina</th>\n",
       "      <td>2</td>\n",
       "      <td>2</td>\n",
       "      <td>0.0</td>\n",
       "      <td>2</td>\n",
       "      <td>4</td>\n",
       "      <td>0.0</td>\n",
       "      <td>4.0</td>\n",
       "      <td>5.0</td>\n",
       "      <td>0.0</td>\n",
       "      <td>1.0</td>\n",
       "    </tr>\n",
       "    <tr>\n",
       "      <th>Aman</th>\n",
       "      <td>5</td>\n",
       "      <td>2</td>\n",
       "      <td>3.0</td>\n",
       "      <td>3</td>\n",
       "      <td>5</td>\n",
       "      <td>4.0</td>\n",
       "      <td>3.0</td>\n",
       "      <td>5.0</td>\n",
       "      <td>3.0</td>\n",
       "      <td>0.0</td>\n",
       "    </tr>\n",
       "    <tr>\n",
       "      <th>Anita</th>\n",
       "      <td>5</td>\n",
       "      <td>3</td>\n",
       "      <td>3.0</td>\n",
       "      <td>1</td>\n",
       "      <td>5</td>\n",
       "      <td>3.0</td>\n",
       "      <td>1.0</td>\n",
       "      <td>5.0</td>\n",
       "      <td>0.0</td>\n",
       "      <td>5.0</td>\n",
       "    </tr>\n",
       "    <tr>\n",
       "      <th>Jordan</th>\n",
       "      <td>4</td>\n",
       "      <td>3</td>\n",
       "      <td>0.0</td>\n",
       "      <td>4</td>\n",
       "      <td>4</td>\n",
       "      <td>4.0</td>\n",
       "      <td>4.0</td>\n",
       "      <td>4.0</td>\n",
       "      <td>1.0</td>\n",
       "      <td>4.0</td>\n",
       "    </tr>\n",
       "    <tr>\n",
       "      <th>Ashley</th>\n",
       "      <td>2</td>\n",
       "      <td>2</td>\n",
       "      <td>1.0</td>\n",
       "      <td>3</td>\n",
       "      <td>2</td>\n",
       "      <td>5.0</td>\n",
       "      <td>5.0</td>\n",
       "      <td>5.0</td>\n",
       "      <td>0.0</td>\n",
       "      <td>2.0</td>\n",
       "    </tr>\n",
       "    <tr>\n",
       "      <th>Michael</th>\n",
       "      <td>2</td>\n",
       "      <td>2</td>\n",
       "      <td>3.0</td>\n",
       "      <td>3</td>\n",
       "      <td>2</td>\n",
       "      <td>1.0</td>\n",
       "      <td>0.0</td>\n",
       "      <td>5.0</td>\n",
       "      <td>5.0</td>\n",
       "      <td>0.0</td>\n",
       "    </tr>\n",
       "    <tr>\n",
       "      <th>Rittik</th>\n",
       "      <td>5</td>\n",
       "      <td>5</td>\n",
       "      <td>4.0</td>\n",
       "      <td>3</td>\n",
       "      <td>4</td>\n",
       "      <td>2.0</td>\n",
       "      <td>4.0</td>\n",
       "      <td>5.0</td>\n",
       "      <td>4.0</td>\n",
       "      <td>0.0</td>\n",
       "    </tr>\n",
       "    <tr>\n",
       "      <th>Brandon</th>\n",
       "      <td>5</td>\n",
       "      <td>5</td>\n",
       "      <td>5.0</td>\n",
       "      <td>5</td>\n",
       "      <td>5</td>\n",
       "      <td>5.0</td>\n",
       "      <td>1.0</td>\n",
       "      <td>0.0</td>\n",
       "      <td>0.0</td>\n",
       "      <td>4.0</td>\n",
       "    </tr>\n",
       "    <tr>\n",
       "      <th>Max</th>\n",
       "      <td>4</td>\n",
       "      <td>3</td>\n",
       "      <td>1.0</td>\n",
       "      <td>4</td>\n",
       "      <td>2</td>\n",
       "      <td>0.0</td>\n",
       "      <td>4.0</td>\n",
       "      <td>1.0</td>\n",
       "      <td>5.0</td>\n",
       "      <td>4.0</td>\n",
       "    </tr>\n",
       "  </tbody>\n",
       "</table>\n",
       "</div>"
      ],
      "text/plain": [
       "         Old Fashion  Manhattan  Negroni  Margarita  Martini  Whiskey Sour  \\\n",
       "name                                                                         \n",
       "Finn               2          5      0.0          1        5           4.0   \n",
       "Marina             2          2      0.0          2        4           0.0   \n",
       "Aman               5          2      3.0          3        5           4.0   \n",
       "Anita              5          3      3.0          1        5           3.0   \n",
       "Jordan             4          3      0.0          4        4           4.0   \n",
       "Ashley             2          2      1.0          3        2           5.0   \n",
       "Michael            2          2      3.0          3        2           1.0   \n",
       "Rittik             5          5      4.0          3        4           2.0   \n",
       "Brandon            5          5      5.0          5        5           5.0   \n",
       "Max                4          3      1.0          4        2           0.0   \n",
       "\n",
       "         Beer  Water  Soda Water  Screw Driver  \n",
       "name                                            \n",
       "Finn      5.0    5.0         2.0           0.0  \n",
       "Marina    4.0    5.0         0.0           1.0  \n",
       "Aman      3.0    5.0         3.0           0.0  \n",
       "Anita     1.0    5.0         0.0           5.0  \n",
       "Jordan    4.0    4.0         1.0           4.0  \n",
       "Ashley    5.0    5.0         0.0           2.0  \n",
       "Michael   0.0    5.0         5.0           0.0  \n",
       "Rittik    4.0    5.0         4.0           0.0  \n",
       "Brandon   1.0    0.0         0.0           4.0  \n",
       "Max       4.0    1.0         5.0           4.0  "
      ]
     },
     "execution_count": 7,
     "metadata": {},
     "output_type": "execute_result"
    }
   ],
   "source": [
    "df"
   ]
  },
  {
   "cell_type": "code",
   "execution_count": 8,
   "metadata": {},
   "outputs": [],
   "source": [
    "from sklearn.metrics.pairwise import euclidean_distances"
   ]
  },
  {
   "cell_type": "code",
   "execution_count": 9,
   "metadata": {},
   "outputs": [
    {
     "data": {
      "text/plain": [
       "array([[ 0.  ,  5.74,  6.  ,  8.25,  6.08,  5.66,  8.6 ,  6.24, 10.58,\n",
       "         9.22],\n",
       "       [ 5.74,  0.  ,  6.86,  7.42,  6.  ,  5.74,  7.55,  7.48, 11.  ,\n",
       "         8.  ],\n",
       "       [ 6.  ,  6.86,  0.  ,  6.63,  5.92,  6.32,  6.32,  4.12,  8.49,\n",
       "         8.31],\n",
       "       [ 8.25,  7.42,  6.63,  0.  ,  5.74,  7.48,  8.83,  7.81,  7.35,\n",
       "         9.11],\n",
       "       [ 6.08,  6.  ,  5.92,  5.74,  0.  ,  4.36,  8.77,  7.21,  7.68,\n",
       "         6.78],\n",
       "       [ 5.66,  5.74,  6.32,  7.48,  4.36,  0.  ,  8.6 ,  7.81,  9.59,\n",
       "         8.77],\n",
       "       [ 8.6 ,  7.55,  6.32,  8.83,  8.77,  8.6 ,  0.  ,  6.4 , 10.86,\n",
       "         7.68],\n",
       "       [ 6.24,  7.48,  4.12,  7.81,  7.21,  7.81,  6.4 ,  0.  ,  9.  ,\n",
       "         7.48],\n",
       "       [10.58, 11.  ,  8.49,  7.35,  7.68,  9.59, 10.86,  9.  ,  0.  ,\n",
       "         9.54],\n",
       "       [ 9.22,  8.  ,  8.31,  9.11,  6.78,  8.77,  7.68,  7.48,  9.54,\n",
       "         0.  ]])"
      ]
     },
     "execution_count": 9,
     "metadata": {},
     "output_type": "execute_result"
    }
   ],
   "source": [
    "np.round(euclidean_distances(df, df), 2)"
   ]
  },
  {
   "cell_type": "code",
   "execution_count": 10,
   "metadata": {},
   "outputs": [],
   "source": [
    "similar = pd.DataFrame(\n",
    "    np.round(euclidean_distances(df, df), 2),\n",
    "    columns=df.index, \n",
    "    index=df.index\n",
    ")"
   ]
  },
  {
   "cell_type": "code",
   "execution_count": 11,
   "metadata": {},
   "outputs": [
    {
     "data": {
      "text/html": [
       "<div>\n",
       "<style scoped>\n",
       "    .dataframe tbody tr th:only-of-type {\n",
       "        vertical-align: middle;\n",
       "    }\n",
       "\n",
       "    .dataframe tbody tr th {\n",
       "        vertical-align: top;\n",
       "    }\n",
       "\n",
       "    .dataframe thead th {\n",
       "        text-align: right;\n",
       "    }\n",
       "</style>\n",
       "<table border=\"1\" class=\"dataframe\">\n",
       "  <thead>\n",
       "    <tr style=\"text-align: right;\">\n",
       "      <th>name</th>\n",
       "      <th>Finn</th>\n",
       "      <th>Marina</th>\n",
       "      <th>Aman</th>\n",
       "      <th>Anita</th>\n",
       "      <th>Jordan</th>\n",
       "      <th>Ashley</th>\n",
       "      <th>Michael</th>\n",
       "      <th>Rittik</th>\n",
       "      <th>Brandon</th>\n",
       "      <th>Max</th>\n",
       "    </tr>\n",
       "    <tr>\n",
       "      <th>name</th>\n",
       "      <th></th>\n",
       "      <th></th>\n",
       "      <th></th>\n",
       "      <th></th>\n",
       "      <th></th>\n",
       "      <th></th>\n",
       "      <th></th>\n",
       "      <th></th>\n",
       "      <th></th>\n",
       "      <th></th>\n",
       "    </tr>\n",
       "  </thead>\n",
       "  <tbody>\n",
       "    <tr>\n",
       "      <th>Finn</th>\n",
       "      <td>0.00</td>\n",
       "      <td>5.74</td>\n",
       "      <td>6.00</td>\n",
       "      <td>8.25</td>\n",
       "      <td>6.08</td>\n",
       "      <td>5.66</td>\n",
       "      <td>8.60</td>\n",
       "      <td>6.24</td>\n",
       "      <td>10.58</td>\n",
       "      <td>9.22</td>\n",
       "    </tr>\n",
       "    <tr>\n",
       "      <th>Marina</th>\n",
       "      <td>5.74</td>\n",
       "      <td>0.00</td>\n",
       "      <td>6.86</td>\n",
       "      <td>7.42</td>\n",
       "      <td>6.00</td>\n",
       "      <td>5.74</td>\n",
       "      <td>7.55</td>\n",
       "      <td>7.48</td>\n",
       "      <td>11.00</td>\n",
       "      <td>8.00</td>\n",
       "    </tr>\n",
       "    <tr>\n",
       "      <th>Aman</th>\n",
       "      <td>6.00</td>\n",
       "      <td>6.86</td>\n",
       "      <td>0.00</td>\n",
       "      <td>6.63</td>\n",
       "      <td>5.92</td>\n",
       "      <td>6.32</td>\n",
       "      <td>6.32</td>\n",
       "      <td>4.12</td>\n",
       "      <td>8.49</td>\n",
       "      <td>8.31</td>\n",
       "    </tr>\n",
       "    <tr>\n",
       "      <th>Anita</th>\n",
       "      <td>8.25</td>\n",
       "      <td>7.42</td>\n",
       "      <td>6.63</td>\n",
       "      <td>0.00</td>\n",
       "      <td>5.74</td>\n",
       "      <td>7.48</td>\n",
       "      <td>8.83</td>\n",
       "      <td>7.81</td>\n",
       "      <td>7.35</td>\n",
       "      <td>9.11</td>\n",
       "    </tr>\n",
       "    <tr>\n",
       "      <th>Jordan</th>\n",
       "      <td>6.08</td>\n",
       "      <td>6.00</td>\n",
       "      <td>5.92</td>\n",
       "      <td>5.74</td>\n",
       "      <td>0.00</td>\n",
       "      <td>4.36</td>\n",
       "      <td>8.77</td>\n",
       "      <td>7.21</td>\n",
       "      <td>7.68</td>\n",
       "      <td>6.78</td>\n",
       "    </tr>\n",
       "    <tr>\n",
       "      <th>Ashley</th>\n",
       "      <td>5.66</td>\n",
       "      <td>5.74</td>\n",
       "      <td>6.32</td>\n",
       "      <td>7.48</td>\n",
       "      <td>4.36</td>\n",
       "      <td>0.00</td>\n",
       "      <td>8.60</td>\n",
       "      <td>7.81</td>\n",
       "      <td>9.59</td>\n",
       "      <td>8.77</td>\n",
       "    </tr>\n",
       "    <tr>\n",
       "      <th>Michael</th>\n",
       "      <td>8.60</td>\n",
       "      <td>7.55</td>\n",
       "      <td>6.32</td>\n",
       "      <td>8.83</td>\n",
       "      <td>8.77</td>\n",
       "      <td>8.60</td>\n",
       "      <td>0.00</td>\n",
       "      <td>6.40</td>\n",
       "      <td>10.86</td>\n",
       "      <td>7.68</td>\n",
       "    </tr>\n",
       "    <tr>\n",
       "      <th>Rittik</th>\n",
       "      <td>6.24</td>\n",
       "      <td>7.48</td>\n",
       "      <td>4.12</td>\n",
       "      <td>7.81</td>\n",
       "      <td>7.21</td>\n",
       "      <td>7.81</td>\n",
       "      <td>6.40</td>\n",
       "      <td>0.00</td>\n",
       "      <td>9.00</td>\n",
       "      <td>7.48</td>\n",
       "    </tr>\n",
       "    <tr>\n",
       "      <th>Brandon</th>\n",
       "      <td>10.58</td>\n",
       "      <td>11.00</td>\n",
       "      <td>8.49</td>\n",
       "      <td>7.35</td>\n",
       "      <td>7.68</td>\n",
       "      <td>9.59</td>\n",
       "      <td>10.86</td>\n",
       "      <td>9.00</td>\n",
       "      <td>0.00</td>\n",
       "      <td>9.54</td>\n",
       "    </tr>\n",
       "    <tr>\n",
       "      <th>Max</th>\n",
       "      <td>9.22</td>\n",
       "      <td>8.00</td>\n",
       "      <td>8.31</td>\n",
       "      <td>9.11</td>\n",
       "      <td>6.78</td>\n",
       "      <td>8.77</td>\n",
       "      <td>7.68</td>\n",
       "      <td>7.48</td>\n",
       "      <td>9.54</td>\n",
       "      <td>0.00</td>\n",
       "    </tr>\n",
       "  </tbody>\n",
       "</table>\n",
       "</div>"
      ],
      "text/plain": [
       "name      Finn  Marina  Aman  Anita  Jordan  Ashley  Michael  Rittik  Brandon  \\\n",
       "name                                                                            \n",
       "Finn      0.00    5.74  6.00   8.25    6.08    5.66     8.60    6.24    10.58   \n",
       "Marina    5.74    0.00  6.86   7.42    6.00    5.74     7.55    7.48    11.00   \n",
       "Aman      6.00    6.86  0.00   6.63    5.92    6.32     6.32    4.12     8.49   \n",
       "Anita     8.25    7.42  6.63   0.00    5.74    7.48     8.83    7.81     7.35   \n",
       "Jordan    6.08    6.00  5.92   5.74    0.00    4.36     8.77    7.21     7.68   \n",
       "Ashley    5.66    5.74  6.32   7.48    4.36    0.00     8.60    7.81     9.59   \n",
       "Michael   8.60    7.55  6.32   8.83    8.77    8.60     0.00    6.40    10.86   \n",
       "Rittik    6.24    7.48  4.12   7.81    7.21    7.81     6.40    0.00     9.00   \n",
       "Brandon  10.58   11.00  8.49   7.35    7.68    9.59    10.86    9.00     0.00   \n",
       "Max       9.22    8.00  8.31   9.11    6.78    8.77     7.68    7.48     9.54   \n",
       "\n",
       "name      Max  \n",
       "name           \n",
       "Finn     9.22  \n",
       "Marina   8.00  \n",
       "Aman     8.31  \n",
       "Anita    9.11  \n",
       "Jordan   6.78  \n",
       "Ashley   8.77  \n",
       "Michael  7.68  \n",
       "Rittik   7.48  \n",
       "Brandon  9.54  \n",
       "Max      0.00  "
      ]
     },
     "execution_count": 11,
     "metadata": {},
     "output_type": "execute_result"
    }
   ],
   "source": [
    "similar"
   ]
  },
  {
   "cell_type": "code",
   "execution_count": 12,
   "metadata": {},
   "outputs": [
    {
     "data": {
      "text/plain": [
       "name\n",
       "Jordan     6.78\n",
       "Rittik     7.48\n",
       "Michael    7.68\n",
       "Marina     8.00\n",
       "Aman       8.31\n",
       "Ashley     8.77\n",
       "Anita      9.11\n",
       "Finn       9.22\n",
       "Brandon    9.54\n",
       "Name: Max, dtype: float64"
      ]
     },
     "execution_count": 12,
     "metadata": {},
     "output_type": "execute_result"
    }
   ],
   "source": [
    "similar.loc['Max'].sort_values(ascending=True)[1:]"
   ]
  },
  {
   "cell_type": "code",
   "execution_count": 13,
   "metadata": {},
   "outputs": [
    {
     "data": {
      "text/plain": [
       "[(4.0, 4.0),\n",
       " (3.0, 3.0),\n",
       " (0.0, 1.0),\n",
       " (4.0, 4.0),\n",
       " (4.0, 2.0),\n",
       " (4.0, 0.0),\n",
       " (4.0, 4.0),\n",
       " (4.0, 1.0),\n",
       " (1.0, 5.0),\n",
       " (4.0, 4.0)]"
      ]
     },
     "execution_count": 13,
     "metadata": {},
     "output_type": "execute_result"
    }
   ],
   "source": [
    "list(zip(df.loc['Jordan'], df.loc['Max']))"
   ]
  },
  {
   "cell_type": "code",
   "execution_count": 14,
   "metadata": {},
   "outputs": [
    {
     "data": {
      "text/plain": [
       "'Whiskey Sour'"
      ]
     },
     "execution_count": 14,
     "metadata": {},
     "output_type": "execute_result"
    }
   ],
   "source": [
    "df.loc['Jordan'].index[5]"
   ]
  }
 ],
 "metadata": {
  "kernelspec": {
   "display_name": "BRE.venv",
   "language": "python",
   "name": "bre.venv"
  },
  "language_info": {
   "codemirror_mode": {
    "name": "ipython",
    "version": 3
   },
   "file_extension": ".py",
   "mimetype": "text/x-python",
   "name": "python",
   "nbconvert_exporter": "python",
   "pygments_lexer": "ipython3",
   "version": "3.9.11"
  }
 },
 "nbformat": 4,
 "nbformat_minor": 2
}
